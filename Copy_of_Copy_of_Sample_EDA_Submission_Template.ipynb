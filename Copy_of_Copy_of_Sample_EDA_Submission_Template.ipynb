{
  "nbformat": 4,
  "nbformat_minor": 0,
  "metadata": {
    "colab": {
      "private_outputs": true,
      "provenance": [],
      "collapsed_sections": [
        "FJNUwmbgGyua",
        "gIfDvo9L0UH2"
      ],
      "include_colab_link": true
    },
    "kernelspec": {
      "name": "python3",
      "display_name": "Python 3"
    },
    "language_info": {
      "name": "python"
    }
  },
  "cells": [
    {
      "cell_type": "markdown",
      "metadata": {
        "id": "view-in-github",
        "colab_type": "text"
      },
      "source": [
        "<a href=\"https://colab.research.google.com/github/vishalyadav1211997/Hotel-BooKing-EDA-analysis/blob/main/Copy_of_Copy_of_Sample_EDA_Submission_Template.ipynb\" target=\"_parent\"><img src=\"https://colab.research.google.com/assets/colab-badge.svg\" alt=\"Open In Colab\"/></a>"
      ]
    },
    {
      "cell_type": "markdown",
      "source": [
        "# **Project Name**    - Hotel Booking Analysis\n",
        "\n"
      ],
      "metadata": {
        "id": "vncDsAP0Gaoa"
      }
    },
    {
      "cell_type": "markdown",
      "source": [
        "##### **Project Type**    - EDA\n",
        "##### **Contribution**    - Team\n",
        "##### **Team Member 1 - Rozi Fatma\n",
        "##### **Team Member 2 - Khusboo Yadav\n",
        "##### **Team Member 3 - Mayank Gupta\n",
        "##### **Team Member 4 - Vishal Kumar Yadav\n",
        "##### **Team Member 5 - Dheeraj Patel"
      ],
      "metadata": {
        "id": "beRrZCGUAJYm"
      }
    },
    {
      "cell_type": "markdown",
      "source": [
        "# **Project Summary -**\n",
        "\n",
        "##Have you ever wondered when the best time of year to book a hotel room is? Or the optimal length of stay in order to get the best daily rate? What if you wanted to predict whether or not a hotel was likely to receive a disproportionately high number of special requests? This hotel booking dataset can help you explore those questions!\n",
        "\n",
        "##This data set contains booking information for a city hotel and a resort hotel, and includes information such as when the booking was made, length of stay, the number of adults, children, and/or babies, and the number of available parking spaces, among other things. All personally identifying information has been removed from the data.\n",
        "##Explore and analyze the data to discover important factors that govern the bookings."
      ],
      "metadata": {
        "id": "FJNUwmbgGyua"
      }
    },
    {
      "cell_type": "markdown",
      "source": [
        "# **GitHub Link -**"
      ],
      "metadata": {
        "id": "w6K7xa23Elo4"
      }
    },
    {
      "cell_type": "markdown",
      "source": [],
      "metadata": {
        "id": "h1o69JH3Eqqn"
      }
    },
    {
      "cell_type": "markdown",
      "source": [
        "# **Problem Statement**\n"
      ],
      "metadata": {
        "id": "yQaldy8SH6Dl"
      }
    },
    {
      "cell_type": "markdown",
      "source": [
        "\n",
        "\n",
        "1\tWhat is the count of each type of Hotels ?\n",
        "\n",
        "2\tWhich of the two hotels is preferred by customers, and in which month most hotels were booked?\n",
        "\n",
        "3\tWhat is the booking rate according to the country?\n",
        "\n",
        "4\tWhich form of distribution do customers prefer most?\n",
        "\n",
        "5\tWhich type of hotel is mostly preferred by adults , children or babies?\n",
        "\n",
        "6 Which type of hotel bookings are mostly cancelled?\n",
        "\n",
        "7 Which Year and Month is the most profitable for hotel bookings?\n",
        "\n",
        "8 Which hotel produces maximum revenue?\n",
        "\n",
        "9 When the hotel gets more guest i.e., in weekdays or weekends?\n",
        "\n",
        "10 The maximum number of guests are from which country?\n",
        "\n",
        "11 Which distribution route and market segments has given adr the most boost in terms of revenue?\n",
        "\n",
        "12 In which month do the hotels have the highest ADR?\n",
        "\n",
        "13 What is the number of repeated customer in hotel bookings?\n",
        "\n",
        "14 Does a longer waiting period result in cancelled bookings?\n",
        "\n",
        "\n"
      ],
      "metadata": {
        "id": "DpeJGUA3kjGy"
      }
    },
    {
      "cell_type": "markdown",
      "source": [
        "#### **Define Your Business Objective?**"
      ],
      "metadata": {
        "id": "PH-0ReGfmX4f"
      }
    },
    {
      "cell_type": "markdown",
      "source": [
        "By the analysis of the given data we found some useful insights for the business. It will help the business to make more profit and can do improvement in their hotels, marketing schemes, customer interaction, etc. It will also help the buisness to increase the revenue by focusing on the suggested area of improvements."
      ],
      "metadata": {
        "id": "PhDvGCAqmjP1"
      }
    },
    {
      "cell_type": "markdown",
      "source": [
        "### Import Libraries"
      ],
      "metadata": {
        "id": "Y3lxredqlCYt"
      }
    },
    {
      "cell_type": "code",
      "source": [
        "# Import Libraries\n",
        "import numpy as np\n",
        "import pandas as pd\n",
        "import matplotlib.pyplot as plt\n",
        "import seaborn as sns"
      ],
      "metadata": {
        "id": "M8Vqi-pPk-HR"
      },
      "execution_count": null,
      "outputs": []
    },
    {
      "cell_type": "markdown",
      "source": [
        "### Dataset Loading"
      ],
      "metadata": {
        "id": "3RnN4peoiCZX"
      }
    },
    {
      "cell_type": "code",
      "source": [
        "# Load Dataset\n",
        "file_path = '/content/Hotel Bookings.csv'\n",
        "main_df = pd.read_csv(file_path)"
      ],
      "metadata": {
        "id": "4CkvbW_SlZ_R"
      },
      "execution_count": null,
      "outputs": []
    },
    {
      "cell_type": "markdown",
      "source": [
        "### Dataset First View"
      ],
      "metadata": {
        "id": "x71ZqKXriCWQ"
      }
    },
    {
      "cell_type": "code",
      "source": [
        "# Dataset First Look\n",
        "main_df"
      ],
      "metadata": {
        "id": "LWNFOSvLl09H"
      },
      "execution_count": null,
      "outputs": []
    },
    {
      "cell_type": "markdown",
      "source": [
        "#**Data Description**\n",
        "1.\t**Hotel** : Different type of Hotels. \n",
        "2.\t**is_canceled** : The value indicates whether or not the reservation has been cancelled.\n",
        "3.\t**lead_time** : How far in advance the reservation was made\n",
        "4.\t**arrival_date_year** : Year of customer arrival.\n",
        "5.\t**arrival_date_month** :Which month of the year did the customer visit \n",
        "6.\t**arrival_date_week_number**: Which week of the year \n",
        "7.\t**arrival_date_day_of_month** :The month in which the customer visited the hotel.\n",
        "8.\t**stays_in_weekend_nights** : Customer stayed or booked to stay in hotel during weekend nights.\n",
        "9.\t**stays_in_week_nights** : The customer stayed or planned to stay in a hotel on a weekend night.\n",
        "10.\t**adults** : Number of adults\n",
        "11.\t**children** : number of children.\n",
        "12.\t**babies** : Number of babies.\n",
        "13.\t**meal** : Type of meal booked.:\n",
        "14.\t**country** : Country of orgin of cutomer.\n",
        "15.\t**market_segment** : where the bookings came from.\n",
        "16.\t**distribution_channel** : Booking distribution channel. The term “TA” means “Travel Agents” and “TO” means “Tour Operators” .\n",
        "17.\t**is_repeated_guest** : Value indicating if the booking name was from a repeated guest (1) or not (0).\n",
        "18.\t**previous_cancellations** : The number of previous bookings that the customer cancelled prior to the current booking.\n",
        "19.\t**previous_bookings_not_canceled** : Number of previous bookings that were cancelled by the customer prior to the current booking.\n",
        "20.\t**reserved_room_type** : The number of previous bookings cancelled by the customer prior to the current booking.\n",
        "21.\t**assigned_room_type** : The code for the room type assigned to the booking. Because of this, the assigned room type may differ from the reserved room type.\n",
        "22.\t**booking_changes **: Number of changes/amendments made to the booking from the moment the booking was entered on the PMS.\n",
        "23.\t**deposit_type** : Indicates whether or not the customer paid a deposit to secure the reservation.\n",
        "24.\t**agent** : The ID of the travel agency that made the reservation.\n",
        "25.\t**company** : ID of the company/entity that made the reservation or is responsible for paying the reservation.\n",
        "26.\t**days_in_waiting_list** : The number of days the reservation was on the waiting list before being confirmed to the customer.\n",
        "27.\t**customer_type** : Booking type, assuming one of four categories.\n",
        "28.\t**adr **: The average daily rate is calculated by dividing the total number of staying nights by the sum of all lodging transactions.\n",
        "29.\t**required_car_parking_spaces** : The number of parking spaces needed by the customer.\n",
        "30.\t**total_of_special_requests **: The number of customer special requests (e.g. twin bed or high floor).\n",
        "31.\t**reservation_status** : Last reservation status in one of three categories: Canceled - the customer cancelled the reservation; Check-out: the customer checked out of the hotel. No show: the customer did not check in to the hotel and informed the hotel of the reason.\n",
        "32.\t**reservation_status_date** : The date on which the most recent status was set. This variable, in conjunction with the Reservation Status, can be used to determine when the booking was cancelled or when the customer checked out of the hotel.\n"
      ],
      "metadata": {
        "id": "PBTbrJXOngz2"
      }
    },
    {
      "cell_type": "code",
      "source": [
        "#Detailed informtion of the Dataset\n",
        "# Dataset info can be done by giving info() as attribute\n",
        "# we can also say which columns has to be cleaned.\n",
        "main_df.info()\n"
      ],
      "metadata": {
        "id": "SwMZBMLRryZW"
      },
      "execution_count": null,
      "outputs": []
    },
    {
      "cell_type": "markdown",
      "source": [
        "- According to this, we found that there are 119390 rows and 32 columns with the different data types like int64, object, float etc.\n",
        "\n",
        "- It also gives information about the null values in the data."
      ],
      "metadata": {
        "id": "w85secN9siJo"
      }
    },
    {
      "cell_type": "code",
      "source": [
        "# Dataset Describe\n",
        "main_df.describe().T\n",
        "\n",
        "# Describe attribute gives us the information about the 'statistical data' for our corresponding columns.\n",
        "# We use transpose attribute because our columns are large, so tranpose attribute interchanges our rows and columns."
      ],
      "metadata": {
        "id": "DnOaZdaE5Q5t"
      },
      "execution_count": null,
      "outputs": []
    },
    {
      "cell_type": "markdown",
      "source": [
        "### Dataset Rows & Columns count"
      ],
      "metadata": {
        "id": "7hBIi_osiCS2"
      }
    },
    {
      "cell_type": "code",
      "source": [
        "# Dataset Rows & Columns count\n",
        "# Rows and Columns count means that we need to calculate the shape of the dataset\n",
        "main_df.shape"
      ],
      "metadata": {
        "id": "Kllu7SJgmLij"
      },
      "execution_count": null,
      "outputs": []
    },
    {
      "cell_type": "markdown",
      "source": [
        "#### Duplicate Values"
      ],
      "metadata": {
        "id": "35m5QtbWiB9F"
      }
    },
    {
      "cell_type": "code",
      "source": [
        "# Dataset Duplicate Value Count\n",
        "print(main_df.shape)\n",
        "main_df.duplicated().sum()"
      ],
      "metadata": {
        "id": "1sLdpKYkmox0"
      },
      "execution_count": null,
      "outputs": []
    },
    {
      "cell_type": "markdown",
      "source": [
        "- Here we find that the total no. of duplicate values in our data is 31,994"
      ],
      "metadata": {
        "id": "GVNgpDhlirS-"
      }
    },
    {
      "cell_type": "code",
      "source": [
        "#We find that there are some duplicates in our data.So We will remove the duplicates.\n",
        "main_df.drop_duplicates(inplace=True)\n"
      ],
      "metadata": {
        "id": "9aH9tBjE1RqM"
      },
      "execution_count": null,
      "outputs": []
    },
    {
      "cell_type": "markdown",
      "source": [
        "So after removing the duplicates from the dataset,our dataset shape has 87396 rows and 32 columns."
      ],
      "metadata": {
        "id": "NakI8orZ2mSR"
      }
    },
    {
      "cell_type": "code",
      "source": [
        "#we shall check the removal of duplicate values.\n",
        "main_df.duplicated().sum()"
      ],
      "metadata": {
        "id": "GJJIcPFF1k3v"
      },
      "execution_count": null,
      "outputs": []
    },
    {
      "cell_type": "markdown",
      "source": [
        "#### Missing Values/Null Values"
      ],
      "metadata": {
        "id": "PoPl-ycgm1ru"
      }
    },
    {
      "cell_type": "code",
      "source": [
        "# Missing Values/Null Values Count\n",
        "null_counts = main_df.isnull().sum()\n",
        "null_counts\n"
      ],
      "metadata": {
        "id": "GgHWkxvamxVg"
      },
      "execution_count": null,
      "outputs": []
    },
    {
      "cell_type": "markdown",
      "source": [
        "- In this, we have found that 4 columns have null values and in which the 'company' and 'agent' have highest null values. So that, we are removing these columns by using of drop method.\n",
        "\n"
      ],
      "metadata": {
        "id": "JSDBBN3uiO6L"
      }
    },
    {
      "cell_type": "code",
      "source": [
        "# Removing the null data\n",
        "main_df = main_df.drop(columns = ['agent', 'company'])"
      ],
      "metadata": {
        "id": "G3MjwNX1j9zm"
      },
      "execution_count": null,
      "outputs": []
    },
    {
      "cell_type": "markdown",
      "source": [
        "- Now we will just need to remove 452 rows with the NaN values. 452 rows out of 119390 is negligible hence I will just remove.\n",
        "This can be done using data.dropna(axis = 0) "
      ],
      "metadata": {
        "id": "OhekZUPAlIbc"
      }
    },
    {
      "cell_type": "code",
      "source": [
        "main_df = main_df.dropna(axis=0)\n",
        "\n",
        "# Check to see if there are any more NaN data \n",
        "main_df.isnull().sum()"
      ],
      "metadata": {
        "id": "3q5wnI3om9sJ"
      },
      "execution_count": null,
      "outputs": []
    },
    {
      "cell_type": "markdown",
      "source": [
        "- Now, we have  clean Data in which there is no null values present in any column so that, the analysis will be more accurate.\n",
        "\n"
      ],
      "metadata": {
        "id": "H0kj-8xxnORC"
      }
    },
    {
      "cell_type": "markdown",
      "source": [
        "Let's find out the data type of each column:"
      ],
      "metadata": {
        "id": "dlAVULv_nfSJ"
      }
    },
    {
      "cell_type": "code",
      "source": [
        "#dtypes of each column\n",
        "main_df.dtypes"
      ],
      "metadata": {
        "id": "HF1HR-bEoEUB"
      },
      "execution_count": null,
      "outputs": []
    },
    {
      "cell_type": "markdown",
      "source": [
        "We know that the data type of children can not be a float type. So that, we need to convert it into the integer."
      ],
      "metadata": {
        "id": "XRZIxQC-peOU"
      }
    },
    {
      "cell_type": "code",
      "source": [
        "#Conversion of float into integer\n",
        "main_df['children'] = main_df['children'].astype('int64')\n",
        "main_df['children']"
      ],
      "metadata": {
        "id": "caxbA4Gppdit"
      },
      "execution_count": null,
      "outputs": []
    },
    {
      "cell_type": "markdown",
      "source": [
        "### Type of Hotels Data"
      ],
      "metadata": {
        "id": "bKJF3rekwFvQ"
      }
    },
    {
      "cell_type": "code",
      "source": [
        "#finding out the unique values in the hotel column\n",
        "main_df['hotel'].unique()"
      ],
      "metadata": {
        "id": "wk-9a2fpoLcV"
      },
      "execution_count": null,
      "outputs": []
    },
    {
      "cell_type": "code",
      "source": [
        "#counting the number of each hotel\n",
        "main_df.groupby('hotel')['hotel'].count()"
      ],
      "metadata": {
        "id": "61NYN0_11g2r"
      },
      "execution_count": null,
      "outputs": []
    },
    {
      "cell_type": "markdown",
      "source": [
        "- We have found there are two types of hotel in the given dataset.\n",
        "- Let's find out which type of hotel is more preferable by the Customer"
      ],
      "metadata": {
        "id": "u-Og1O1ew7gT"
      }
    },
    {
      "cell_type": "code",
      "source": [
        "# Enlarging the pie chart\n",
        "plt.rcParams['figure.figsize'] = 6,6\n",
        "\n",
        "# Indexing labels. tolist() will convert the index to list for easy manipulation\n",
        "labels = main_df['hotel'].value_counts().index.tolist()\n",
        "\n",
        "# Convert value counts to list\n",
        "sizes = main_df['hotel'].value_counts().tolist()\n",
        "\n",
        "# As the name suggest, explode will determine how much each section is separated from each other \n",
        "explode = (0,0.1)\n",
        "\n",
        "# Determine colour of pie chart\n",
        "colors = ['lightskyblue','yellow']\n",
        "\n",
        "plt.pie(sizes, explode = explode, labels=labels, colors=colors, autopct='%1.1f%%',startangle=90, textprops={'fontsize': 14})"
      ],
      "metadata": {
        "id": "mdc3ornRzDC9"
      },
      "execution_count": null,
      "outputs": []
    },
    {
      "cell_type": "markdown",
      "source": [
        "##What do we see here?\n",
        "- It seems that a huge proportion of hotels was city hotel. Resort hotel tend to be on the expensive side and most people will just stick with city hotel.\n"
      ],
      "metadata": {
        "id": "CKdB8OVb4Hs6"
      }
    },
    {
      "cell_type": "markdown",
      "source": [
        "## An overview of the number of people who booked the hotel."
      ],
      "metadata": {
        "id": "dTjnTqkD5ObJ"
      }
    },
    {
      "cell_type": "code",
      "source": [
        "#For adults\n",
        "main_df.groupby('hotel')['adults'].describe()\n",
        "# this gives us statistical description of adults column"
      ],
      "metadata": {
        "id": "gCxTeLoO4EyU"
      },
      "execution_count": null,
      "outputs": []
    },
    {
      "cell_type": "code",
      "source": [
        "#For Children\n",
        "main_df.groupby('hotel')['children'].describe()\n",
        "# this gives us statistical description of children column"
      ],
      "metadata": {
        "id": "3aClQqZ54EvL"
      },
      "execution_count": null,
      "outputs": []
    },
    {
      "cell_type": "markdown",
      "source": [
        "- It seems that mean values for adults and children are higher. This means that resort hotels are better choice for large families."
      ],
      "metadata": {
        "id": "pzPen3_g8SRj"
      }
    },
    {
      "cell_type": "markdown",
      "source": [
        "##Overview of cancelled bookings"
      ],
      "metadata": {
        "id": "IFOjx64oA6nn"
      }
    },
    {
      "cell_type": "code",
      "source": [
        "#counting the cancelled and not_cancelled booking\n",
        "main_df['is_canceled'] = main_df.is_canceled.replace([1,0], ['canceled', 'not_canceled'])\n",
        "canceled_data = main_df['is_canceled']\n",
        "sns.countplot(canceled_data)"
      ],
      "metadata": {
        "id": "7idOWVZD4Emk"
      },
      "execution_count": null,
      "outputs": []
    },
    {
      "cell_type": "markdown",
      "source": [
        "##What do we see here?\n",
        "- It seems that majority of the bookings were not cancelled."
      ],
      "metadata": {
        "id": "GDKkbHrqDxZj"
      }
    },
    {
      "cell_type": "markdown",
      "source": [
        "##Finding out the cancelled booking in different hotel.\n",
        "\n",
        "\n"
      ],
      "metadata": {
        "id": "X2vvlkixEiwR"
      }
    },
    {
      "cell_type": "code",
      "source": [
        "main_df.columns.T"
      ],
      "metadata": {
        "id": "qSzWHbOC4EjK"
      },
      "execution_count": null,
      "outputs": []
    },
    {
      "cell_type": "code",
      "source": [
        "#counting the cancellation of hotels\n",
        "main_df.groupby('hotel')['is_canceled'].count()"
      ],
      "metadata": {
        "id": "_eb75ehG4Efz"
      },
      "execution_count": null,
      "outputs": []
    },
    {
      "cell_type": "code",
      "source": [
        "#Now finding the no. of cancellations made in City Hotel and Resort Hotel\n",
        "list1 = ['is_canceled', 'hotel']\n",
        "type_of_hotel_canceled = main_df[list1]\n",
        "cancelled_hotel = type_of_hotel_canceled[type_of_hotel_canceled['is_canceled'] == 'canceled'].groupby(['hotel']).size().reset_index(name = 'count')\n",
        "sns.barplot(data = cancelled_hotel, x = 'hotel', y = 'count').set_title('Graph showing cancellation rates in city and resort hotel')"
      ],
      "metadata": {
        "id": "lsXV9FJH4Ecf"
      },
      "execution_count": null,
      "outputs": []
    },
    {
      "cell_type": "markdown",
      "source": [
        "##What do we see here?\n",
        "- We have seen a huge proportion of cancellation from city hotel. This was expected since 3/4 of the hotel bookings belong to city hotels."
      ],
      "metadata": {
        "id": "dnKaN1kkIVWr"
      }
    },
    {
      "cell_type": "markdown",
      "source": [
        "#Lets find out the reason for cancelling of Hotels:-"
      ],
      "metadata": {
        "id": "ZwOuJTa_BgY5"
      }
    },
    {
      "cell_type": "code",
      "source": [
        "#We will find type of deposit\n",
        "Type_of_deposit = main_df['deposit_type'].value_counts()\n",
        "Type_of_deposit"
      ],
      "metadata": {
        "id": "FcBQGXYUBjC0"
      },
      "execution_count": null,
      "outputs": []
    },
    {
      "cell_type": "code",
      "source": [
        "#Using Graph for showing type of deposite\n",
        "Type_of_deposit.plot(kind = 'bar', color = ['orange', 'red', 'blue'])\n",
        "plt.title('Graph showing types of deposits')\n",
        "plt.xlabel('Type of deposite')\n",
        "plt.ylabel('No. of deposite')"
      ],
      "metadata": {
        "id": "90vrZjhyBtDt"
      },
      "execution_count": null,
      "outputs": []
    },
    {
      "cell_type": "markdown",
      "source": [
        "## find out that- \n",
        "- Majority of the booking does not require deposit. That could explain why cancellation rate was actually 50% of non-cancellation rate."
      ],
      "metadata": {
        "id": "CgbE1n5tCMMK"
      }
    },
    {
      "cell_type": "markdown",
      "source": [
        "###Let's check which type of hotel is more prefered by the customers."
      ],
      "metadata": {
        "id": "bYGZ7bEmHR3F"
      }
    },
    {
      "cell_type": "code",
      "source": [
        "#In the years of 2015,2016,2017 let us find the count of diffrent types of hotel. \n",
        "list2 = ['hotel', 'arrival_date_year', 'arrival_date_month','arrival_date_day_of_month']\n",
        "period_arrival = main_df[list2]\n",
        "sns.countplot(data = period_arrival, x = 'arrival_date_year', hue = 'hotel')"
      ],
      "metadata": {
        "id": "E1SQVdWEKLOG"
      },
      "execution_count": null,
      "outputs": []
    },
    {
      "cell_type": "code",
      "source": [
        "#Finding the diffrent hotels count for various months. \n",
        "plt.figure(figsize=(20,5))\n",
        "sns.countplot(data = period_arrival, x = 'arrival_date_month', hue = 'hotel', order = ['January', 'February', 'March', 'April', 'May', 'June', 'July',\n",
        "          'August', 'September', 'October', 'November', 'December']).set_title('Graph showing number of arrival per month',fontsize=20)\n",
        "plt.xlabel('Month')\n",
        "plt.ylabel('Count')"
      ],
      "metadata": {
        "id": "N2QUVKQIKLLe"
      },
      "execution_count": null,
      "outputs": []
    },
    {
      "cell_type": "code",
      "source": [
        "#plotting the count of diffrent days for month representing the diffrent hotels \n",
        "plt.figure(figsize=(15,5))\n",
        "sns.countplot(data = period_arrival, x = 'arrival_date_day_of_month', hue = 'hotel').set_title('Graph showing number of arrival per day', fontsize = 20)"
      ],
      "metadata": {
        "id": "-dOqgefKKLI9"
      },
      "execution_count": null,
      "outputs": []
    },
    {
      "cell_type": "markdown",
      "source": [
        "So what do we see?\n",
        "- Here, City hotel gets more number of bookings.\n",
        "- I can see that 2016 seems to be the year where hotel booking is at its highest. We also see an increasing trend in booking around the middle of the year, with August being the highest. Summer ends around August, followed straight by autumn. It seems that summer period is a peak period for hotel booking.\n",
        "- We do notice a roller coaster trend for the arrival day of month. Could the peaks belong to a weekend? (i.e Will people tend to book over the weekends?)"
      ],
      "metadata": {
        "id": "f9gS7QBo7_e7"
      }
    },
    {
      "cell_type": "markdown",
      "source": [
        "Let us find out the count for diffrent number of stays on weekend and week nights."
      ],
      "metadata": {
        "id": "KoZFE5YoQCNV"
      }
    },
    {
      "cell_type": "code",
      "source": [
        "sns.countplot(data = main_df, x = 'stays_in_weekend_nights').set_title('Number of stays on weekend nights', fontsize = 20)"
      ],
      "metadata": {
        "id": "Qr65osTeKLFB"
      },
      "execution_count": null,
      "outputs": []
    },
    {
      "cell_type": "code",
      "source": [
        "sns.countplot(data = main_df, x = 'stays_in_week_nights' ).set_title('Number of stays on weekday night' , fontsize = 20)"
      ],
      "metadata": {
        "id": "kcTiMSabKLBr"
      },
      "execution_count": null,
      "outputs": []
    },
    {
      "cell_type": "markdown",
      "source": [
        "What do we see this time?\n",
        "- It seems that majority of the stays are over the weekday's night. Hence, it seems that whatever we saw for the chart on day of the month was random."
      ],
      "metadata": {
        "id": "aXnfh2t29EEP"
      }
    },
    {
      "cell_type": "markdown",
      "source": [
        "##Finding Values of Visitors like adults, children and babies in hotels "
      ],
      "metadata": {
        "id": "x_mlqCZe9PAX"
      }
    },
    {
      "cell_type": "code",
      "source": [
        "Number_of_adult = main_df.groupby('hotel')['adults'].sum()\n",
        "Number_of_adult"
      ],
      "metadata": {
        "id": "wgorls4DKK9w"
      },
      "execution_count": null,
      "outputs": []
    },
    {
      "cell_type": "code",
      "source": [
        "# Enlarging the pie chart\n",
        "plt.rcParams['figure.figsize'] = 6,6\n",
        "\n",
        "# Indexing labels. tolist() will convert the index to list for easy manipulation\n",
        "labels = main_df['hotel'].value_counts().index.tolist()\n",
        "\n",
        "# Convert value counts to list\n",
        "sizes = Number_of_adult\n",
        "\n",
        "# As the name suggest, explode will determine how much each section is separated from each other \n",
        "explode = (0, 0.1)\n",
        "\n",
        "# Determine colour of pie chart\n",
        "colors = ['lightskyblue','yellow']\n",
        "\n",
        "plt.pie(sizes, explode = explode, labels=labels, colors=colors, autopct='%1.1f%%',startangle=90, textprops={'fontsize': 14})\n",
        "plt.title('Number of Adults')"
      ],
      "metadata": {
        "id": "yqmGIbjDB85d"
      },
      "execution_count": null,
      "outputs": []
    },
    {
      "cell_type": "code",
      "source": [
        "Number_of_children = main_df.groupby('hotel')['children'].sum()\n",
        "Number_of_children"
      ],
      "metadata": {
        "id": "N32Z9Ju-AMEZ"
      },
      "execution_count": null,
      "outputs": []
    },
    {
      "cell_type": "code",
      "source": [
        "# Enlarging the pie chart\n",
        "plt.rcParams['figure.figsize'] = 6,6\n",
        "\n",
        "# Indexing labels. tolist() will convert the index to list for easy manipulation\n",
        "labels = main_df['hotel'].value_counts().index.tolist()\n",
        "\n",
        "# Convert value counts to list\n",
        "sizes = Number_of_children\n",
        "\n",
        "# As the name suggest, explode will determine how much each section is separated from each other \n",
        "explode = (0, 0.1)\n",
        "\n",
        "# Determine colour of pie chart\n",
        "colors = ['lightpink','violet']\n",
        "\n",
        "plt.pie(sizes, explode = explode, labels=labels, colors=colors, autopct='%1.1f%%',startangle=90, textprops={'fontsize': 14})\n",
        "plt.title('Number of Children')"
      ],
      "metadata": {
        "id": "XC8H518dChNa"
      },
      "execution_count": null,
      "outputs": []
    },
    {
      "cell_type": "code",
      "source": [
        "Number_of_babies = main_df.groupby('hotel')['babies'].sum()\n",
        "Number_of_babies"
      ],
      "metadata": {
        "id": "Qrb38AHaAVeQ"
      },
      "execution_count": null,
      "outputs": []
    },
    {
      "cell_type": "code",
      "source": [
        "# Enlarging the pie chart\n",
        "plt.rcParams['figure.figsize'] = 6,6\n",
        "\n",
        "# Indexing labels. tolist() will convert the index to list for easy manipulation\n",
        "labels = main_df['hotel'].value_counts().index.tolist()\n",
        "\n",
        "# Convert value counts to list\n",
        "sizes = Number_of_babies\n",
        "\n",
        "# As the name suggest, explode will determine how much each section is separated from each other \n",
        "explode = (0, 0.1)\n",
        "\n",
        "# Determine colour of pie chart\n",
        "colors = ['yellow','skyblue']\n",
        "\n",
        "plt.pie(sizes, explode = explode, labels=labels, colors=colors, autopct='%1.1f%%',startangle=90, textprops={'fontsize': 14})\n",
        "plt.title('Number of Children')\n",
        "plt.title('Number of babies')"
      ],
      "metadata": {
        "id": "RtTEZivS_mEX"
      },
      "execution_count": null,
      "outputs": []
    },
    {
      "cell_type": "markdown",
      "source": [
        "##What do we see here?\n",
        "- It seems that majority of the visitors travel in pair. Those that travel with children or babies have no specific preference for the type of hotel. We do see that those bringing babies along prefer resort hotels."
      ],
      "metadata": {
        "id": "sxpJfy2XEXuY"
      }
    },
    {
      "cell_type": "code",
      "source": [
        "# Total guest from various countries.\n",
        "country_guest=main_df['country'].value_counts().reset_index().rename(columns={'index': 'country','country': 'count of guests'})[:5]\n",
        "\n",
        "# Plotting the graph\n",
        "plt.figure(figsize=(18,6))\n",
        "sns.barplot(x=country_guest['country'],y=country_guest['count of guests'])\n",
        "plt.xlabel('Countries')\n",
        "plt.ylabel('No. of guest',fontsize=15)\n",
        "plt.title(\"No. of guests from diffrent Countries\",fontsize=15)"
      ],
      "metadata": {
        "id": "g0NJwxmbNJPM"
      },
      "execution_count": null,
      "outputs": []
    },
    {
      "cell_type": "code",
      "source": [
        "country_visitors = main_df[main_df['is_canceled'] == 'not_canceled'].groupby(['country']).size().reset_index(name = 'count')\n",
        "\n",
        "# We will be using Plotly.express to plot a choropleth map. Big fan of Plotly here!\n",
        "import plotly.express as px\n",
        "\n",
        "px.choropleth(country_visitors,\n",
        "                    locations = \"country\",\n",
        "                    color= \"count\", \n",
        "                    hover_name= \"country\", # column to add to hover information\n",
        "                    color_continuous_scale=px.colors.sequential.Plasma,\n",
        "                    title=\"Home country of visitors\")"
      ],
      "metadata": {
        "id": "UV7AFHF1_mBf"
      },
      "execution_count": null,
      "outputs": []
    },
    {
      "cell_type": "markdown",
      "source": [
        "##What do we see?\n",
        "- We have a huge number of visitors from western europe, namely France,UK and Portugal being the highest.\n",
        "- We can instruct the marketing team to target people of this region."
      ],
      "metadata": {
        "id": "xfBapKDGGgI2"
      }
    },
    {
      "cell_type": "markdown",
      "source": [
        "##Looking into market segments and distribution channel"
      ],
      "metadata": {
        "id": "aneYEjCyI7Ws"
      }
    },
    {
      "cell_type": "code",
      "source": [
        "plt.figure(figsize=(12,5))\n",
        "sns.countplot(data = main_df, x = 'market_segment').set_title('Types of market segment', fontsize = 20)"
      ],
      "metadata": {
        "id": "MPFTebSe_l-S"
      },
      "execution_count": null,
      "outputs": []
    },
    {
      "cell_type": "code",
      "source": [
        "plt.figure(figsize=(12,5))\n",
        "sns.countplot(data = main_df, x = 'distribution_channel').set_title('Types of distribution channel', fontsize = 20)"
      ],
      "metadata": {
        "id": "oV7yUmz3_l7P"
      },
      "execution_count": null,
      "outputs": []
    },
    {
      "cell_type": "markdown",
      "source": [
        "##What do we see here?\n",
        "- Majority of the distribution channels and market segments involve travel agencies (online or offline).\n",
        "- We can target our marketing area to be on these travel agencies website and work with them since majority of the visitors tend to reach out to them."
      ],
      "metadata": {
        "id": "BsQ8hag0J2ow"
      }
    },
    {
      "cell_type": "markdown",
      "source": [
        "#Which form of distribution do customers prefer most?"
      ],
      "metadata": {
        "id": "GkjndoR_d6Nd"
      }
    },
    {
      "cell_type": "code",
      "source": [
        "# Creating the table for most preferred distribution channel.\n",
        "distribution_channel = main_df.groupby([\"distribution_channel\"])['meal'].count().sort_values(ascending = False).reset_index().rename(columns = {\"distribution_channel\" : \"Distribution Channel\", \"meal\" : \"Count\"})\n",
        "distribution_channel"
      ],
      "metadata": {
        "id": "UF2hXZHHd74Q"
      },
      "execution_count": null,
      "outputs": []
    },
    {
      "cell_type": "code",
      "source": [
        "# Plotting the above table  graph will help reveal insights.\n",
        "sns.barplot(x = \"Distribution Channel\", y = 'Count', data = distribution_channel)\n",
        "plt.figure(figsize = (10,6))"
      ],
      "metadata": {
        "id": "BoTwTagbd71x"
      },
      "execution_count": null,
      "outputs": []
    },
    {
      "cell_type": "markdown",
      "source": [],
      "metadata": {
        "id": "2hSstzV4hIth"
      }
    },
    {
      "cell_type": "markdown",
      "source": [
        "- TA/TO are the customers' chosen distribution channels.\n",
        "- In order to grow their business, hotels might partner with these agents and operators or promote using them as a medium."
      ],
      "metadata": {
        "id": "cnnttvObeHD5"
      }
    },
    {
      "cell_type": "markdown",
      "source": [
        "##Let's find out the Repeated Customer for Hotels"
      ],
      "metadata": {
        "id": "N82cOY6-Ds3G"
      }
    },
    {
      "cell_type": "code",
      "source": [
        "#Find out the repeated guest\n",
        "#replace values in 'is_repeated_guest' by ('repeated', 'not_repeated')\n",
        "main_df['is_repeated_guest'] = main_df.is_repeated_guest.replace([1,0], ['repeated', 'not_repeated'])\n",
        "repeated_data = main_df['is_repeated_guest']"
      ],
      "metadata": {
        "id": "u8ESrxmNELoz"
      },
      "execution_count": null,
      "outputs": []
    },
    {
      "cell_type": "code",
      "source": [
        "# make bar graph for showing values of the guest \n",
        "sns.countplot(canceled_data).set_title('Graph showing whether guest is repeated guest', fontsize = 20)"
      ],
      "metadata": {
        "id": "4ItKLxK2D3vn"
      },
      "execution_count": null,
      "outputs": []
    },
    {
      "cell_type": "markdown",
      "source": [
        "##Which type of Hotel generates more average revenue?"
      ],
      "metadata": {
        "id": "8ycXsIG2S05H"
      }
    },
    {
      "cell_type": "code",
      "source": [
        "#Lets first group the hotel\n",
        "grouped_by_hotel = main_df.groupby('hotel')\n",
        "# calculating the average adr\n",
        "hotel_revenue = grouped_by_hotel['adr'].agg(np.mean).reset_index().rename(columns = {'adr':'avg_adr'})   \n",
        "plt.figure(figsize = (9,6))\n",
        "avg = sns.barplot(x = hotel_revenue['hotel'], y = hotel_revenue['avg_adr'], palette =\"Set2\" )\n",
        "avg.set_title(\"Average revenue generated by hotels\")\n",
        "plt.show()"
      ],
      "metadata": {
        "id": "J3zmWj6qSutu"
      },
      "execution_count": null,
      "outputs": []
    },
    {
      "cell_type": "markdown",
      "source": [
        "#What we found that-\n",
        "- According to the above figure,  City hotel has more average revenue than resort hotel"
      ],
      "metadata": {
        "id": "jTBZKI_sTBmr"
      }
    },
    {
      "cell_type": "markdown",
      "source": [
        "##Which room type has the highest average daily rate?"
      ],
      "metadata": {
        "id": "eTbzq4tnUWEa"
      }
    },
    {
      "cell_type": "code",
      "source": [
        "main_df['assigned_room_type'].unique()"
      ],
      "metadata": {
        "id": "UG2FvHXxSunl"
      },
      "execution_count": null,
      "outputs": []
    },
    {
      "cell_type": "code",
      "source": [
        "plt.figure(figsize =(14,5))\n",
        "group_by_room = main_df.groupby('assigned_room_type')\n",
        "main_df[\"Number_of_booking\"] = group_by_room.size()\n",
        "adr = sns.barplot(x = main_df['assigned_room_type'],y = main_df[\"adr\"])\n",
        "adr.set_title(\"ADR based on room type\",fontsize = 20)"
      ],
      "metadata": {
        "id": "epdE4sGiSuWl"
      },
      "execution_count": null,
      "outputs": []
    },
    {
      "cell_type": "markdown",
      "source": [
        "H type has the highest Average daily rate followed by G type\n",
        "and F type"
      ],
      "metadata": {
        "id": "Lkq5S7EAUyx7"
      }
    },
    {
      "cell_type": "markdown",
      "source": [
        "##Lets first find the correlation between the numerical data.\n",
        "\n",
        "Since, columns like 'is_cancelled', 'arrival_date_year', 'arrival_date_week_number', 'arrival_date_day_of_month', 'is_repeated_guest', 'company', 'agent' are categorical data having numerical type. So we wont need to check them for correlation.\n",
        "\n",
        "\n",
        "Also, we have added total_stay and total_people columns. So, we can remove adults, children, babies, stays_in_weekend_nights, stays_in_week_nights columns."
      ],
      "metadata": {
        "id": "J9DB-xkbYNp8"
      }
    },
    {
      "cell_type": "code",
      "source": [
        "#Creating a new column 'total_people'\n",
        "main_df['total_people'] = main_df['adults'] + main_df['children'] + main_df['babies']\n",
        "\n",
        "#Creating a new column 'total_stay'\n",
        "main_df['total_stay'] = main_df['stays_in_week_nights'] + main_df['stays_in_weekend_nights']\n",
        "\n",
        "#Drop the columns from the data set\n",
        "main_df.drop(columns = ['adults', 'children', 'babies', 'stays_in_week_nights', 'stays_in_weekend_nights'], inplace = True)\n"
      ],
      "metadata": {
        "id": "YLnw5eMZY17c"
      },
      "execution_count": null,
      "outputs": []
    },
    {
      "cell_type": "code",
      "source": [
        "num_main_df = main_df[['lead_time','previous_cancellations','previous_bookings_not_canceled','booking_changes','days_in_waiting_list','adr','required_car_parking_spaces','total_of_special_requests', 'total_people', 'total_stay']]\n"
      ],
      "metadata": {
        "id": "L3tZnH0N_l1V"
      },
      "execution_count": null,
      "outputs": []
    },
    {
      "cell_type": "code",
      "source": [
        "#Find out the Correlation matrix\n",
        "corrmat = num_main_df.corr()\n",
        "f, ax = plt.subplots(figsize=(12, 7))\n",
        "sns.heatmap(corrmat,annot = True,fmt='.2f', annot_kws={'size': 10},  vmax=.8, square=True);"
      ],
      "metadata": {
        "id": "n_E7YC52V6FH"
      },
      "execution_count": null,
      "outputs": []
    },
    {
      "cell_type": "markdown",
      "source": [
        "- Total stay length and lead time have slight correlation. This may means that for longer hotel stays people generally plan little before the the actual arrival.\n",
        "\n",
        "- adr is slightly correlated with total_people, which makes sense as more no. of people means more revenue, therefore more adr."
      ],
      "metadata": {
        "id": "RAsee0IddnSk"
      }
    },
    {
      "cell_type": "markdown",
      "source": [
        "#Find out the Waiting timing ? "
      ],
      "metadata": {
        "id": "xEvgLsatXuPX"
      }
    },
    {
      "cell_type": "code",
      "source": [
        "waiting_bookings = main_df[main_df['days_in_waiting_list'] !=0]  # Selecting bookings with non zero waiting time\n",
        "\n",
        "fig, axes = plt.subplots(1, 2, figsize=(18, 8))\n",
        "sns.kdeplot(ax=axes[0],x = 'days_in_waiting_list', hue = 'is_canceled' , data = waiting_bookings)\n",
        "sns.kdeplot(ax = axes[1], x = main_df['lead_time'], hue = main_df['is_canceled'])\n",
        "plt.show()"
      ],
      "metadata": {
        "id": "3GQbw_Qfvvgb"
      },
      "execution_count": null,
      "outputs": []
    },
    {
      "cell_type": "markdown",
      "source": [
        "- We see that most of the bookings that are cancelled have waiting period of less 150 days but also most of bookings that are not cancelled also have waiting period less than 150 days. Hence this shows that waiting period has no effect on cancellation of bookings.\n",
        "\n",
        "- Also, lead time has no affect on cancellation of bookings, as both curves of cancelation and not cancelation are similar for lead time too.\n",
        "\n",
        "- Now we will check whether not getting allotted the same room type as demanded is the cause of cancellation fo bookings"
      ],
      "metadata": {
        "id": "bJu7QksDwCLX"
      }
    },
    {
      "cell_type": "markdown",
      "source": [
        "##Now let's check the revenue pattern across months"
      ],
      "metadata": {
        "id": "jOY--0N4ulwj"
      }
    },
    {
      "cell_type": "code",
      "source": [
        "#reindexing the month\n",
        "reindex = ['January', 'February','March','April','May','June','July','August','September','October','November','December']\n",
        "\n",
        "#Categorized the month in the proper order\n",
        "main_df['arrival_date_month'] = pd.Categorical(main_df['arrival_date_month'],categories=reindex,ordered=True)\n",
        "\n",
        "#Plot the box-plot for the revenue\n",
        "plt.figure(figsize = (15,8))\n",
        "sns.boxplot(x = main_df['arrival_date_month'],y = main_df['adr'])\n",
        "plt.show()"
      ],
      "metadata": {
        "id": "dSDNYh7qfCTf"
      },
      "execution_count": null,
      "outputs": []
    },
    {
      "cell_type": "markdown",
      "source": [
        "- Here, we observe that there are some outlier in the data which is affecting our analysis.\n",
        "- For the better analysis we need to remove it."
      ],
      "metadata": {
        "id": "ffV-2bH6zdOk"
      }
    },
    {
      "cell_type": "code",
      "source": [
        "plt.figure(figsize = (15,8))\n",
        "\n",
        "# Removing the outlier\n",
        "main_df = main_df[main_df['adr']<4000]\n",
        "sns.boxplot(x = main_df['arrival_date_month'],y = main_df['adr'])\n",
        "plt.show()"
      ],
      "metadata": {
        "id": "ALmHCuXvulUS"
      },
      "execution_count": null,
      "outputs": []
    },
    {
      "cell_type": "markdown",
      "source": [
        "- Avg adr rises from beginning of year upto middle of year and reaches peak at August and then lowers to the end of year. But hotels do make some good deals with high adr at end of year also."
      ],
      "metadata": {
        "id": "V1cmK8ANZEPs"
      }
    },
    {
      "cell_type": "markdown",
      "source": [
        "# **Conclusion**"
      ],
      "metadata": {
        "id": "gCX9965dhzqZ"
      }
    },
    {
      "cell_type": "markdown",
      "source": [
        "With this whole analysis we found the following points:\n",
        "- Resort hotels are more expensive compared to the City hotels. A huge portion of the hotels is City hotel.\n",
        "- Resort hotels are better choice for large families.\n",
        "- It seems that majority of the visitors who travel in pair, prefer City hotels.\n",
        "- In the year **2016**, highest hotel bookings were registered. \n",
        "- In the month, **July** to **August** highest hotel bookings were found.\n",
        "- It seems that majority of the stays are over the weekday's night.\n",
        "- In the hotel bookings we have found that a huge number of visitors are coming from western europe, namely France, UK and **Portugal** are among the highest.\n",
        "- Majority of the distribution channels and market segments involve travel agencies (online or offline).\n",
        "- We observed that the high rate of cancellations is due to 'no deposit' policy.\n",
        "- We need to focus on that customers who visited first time in the hotel but not booking the hotel again.\n",
        "\n",
        "\n",
        "**The key is, knowing what to include, and what not to include in the hotel business plan. Create a clear road map for success.**"
      ],
      "metadata": {
        "id": "Fjb1IsQkh3yE"
      }
    },
    {
      "cell_type": "markdown",
      "source": [
        "### ***Hurrah! You have successfully completed your EDA Capstone Project !!!***"
      ],
      "metadata": {
        "id": "gIfDvo9L0UH2"
      }
    },
    {
      "cell_type": "code",
      "source": [],
      "metadata": {
        "id": "TVf7ISN2lLTT"
      },
      "execution_count": null,
      "outputs": []
    }
  ]
}